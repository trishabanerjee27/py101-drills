{
 "cells": [
  {
   "cell_type": "markdown",
   "metadata": {},
   "source": [
    "### Dataset Credit\n",
    "\n",
    "The dataset used in this project is sourced from [--> here](https://examplefile.com/code/json/2-mb-json)\n"
   ]
  },
  {
   "cell_type": "code",
   "execution_count": 1,
   "metadata": {},
   "outputs": [
    {
     "data": {
      "text/plain": [
       "[{'name': 'Dr. Tyson Schaefer DVM',\n",
       "  'email': 'patience.williamson@gmail.com',\n",
       "  'address': '205 Moses Walks Suite 491\\nPort Elijahside, NC 22201-3795',\n",
       "  'phone': '643-992-7832 x70361',\n",
       "  'website': 'https://examplefile.com'},\n",
       " {'name': 'Taya Conroy',\n",
       "  'email': 'yconnelly@hermiston.com',\n",
       "  'address': '83148 Angie Grove\\nLuciousfort, UT 54284',\n",
       "  'phone': '+14347104241',\n",
       "  'website': 'https://examplefile.com'}]"
      ]
     },
     "execution_count": 1,
     "metadata": {},
     "output_type": "execute_result"
    }
   ],
   "source": [
    "import json\n",
    "\n",
    "with open(\"../data/2mb.json\", \"r\") as f:\n",
    "    data = json.load(f)\n",
    "\n",
    "data[:2]\n"
   ]
  },
  {
   "cell_type": "code",
   "execution_count": 2,
   "metadata": {},
   "outputs": [],
   "source": [
    "class Person:\n",
    "    def __init__(self, name, email, address, phone, website):\n",
    "        self.name = name\n",
    "        self.email = email\n",
    "        self.address = address\n",
    "        self.phone = phone\n",
    "        self.website = website\n",
    "\n",
    "    def to_dict(self):\n",
    "        return {\n",
    "            \"name\": self.name,\n",
    "            \"email\": self.email,\n",
    "            \"address\": self.address,\n",
    "            \"phone\": self.phone,\n",
    "            \"website\": self.website\n",
    "        }\n",
    "\n",
    "    def __repr__(self):\n",
    "        return f\"<Person {self.name}>\""
   ]
  },
  {
   "cell_type": "code",
   "execution_count": 3,
   "metadata": {},
   "outputs": [
    {
     "data": {
      "text/plain": [
       "[<Person Dr. Tyson Schaefer DVM>,\n",
       " <Person Taya Conroy>,\n",
       " <Person Miss Yadira Rath MD>]"
      ]
     },
     "execution_count": 3,
     "metadata": {},
     "output_type": "execute_result"
    }
   ],
   "source": [
    "people = [Person(**entry) for entry in data]\n",
    "people[:3]"
   ]
  },
  {
   "cell_type": "code",
   "execution_count": 4,
   "metadata": {},
   "outputs": [],
   "source": [
    "output_path = \"../data/serialized_people.json\"\n",
    "\n",
    "with open(output_path, \"w\") as f:\n",
    "    json.dump([p.to_dict() for p in people], f, indent=2)"
   ]
  },
  {
   "cell_type": "markdown",
   "metadata": {},
   "source": [
    "#### Rehydration"
   ]
  },
  {
   "cell_type": "code",
   "execution_count": 5,
   "metadata": {},
   "outputs": [
    {
     "data": {
      "text/plain": [
       "[<Person Dr. Tyson Schaefer DVM>, <Person Taya Conroy>]"
      ]
     },
     "execution_count": 5,
     "metadata": {},
     "output_type": "execute_result"
    }
   ],
   "source": [
    "with open(\"../data/serialized_people.json\", \"r\") as f:\n",
    "    loaded_people_data = json.load(f)\n",
    "\n",
    "rehydrated_people = [Person(**entry) for entry in loaded_people_data]\n",
    "rehydrated_people[:2]"
   ]
  }
 ],
 "metadata": {
  "kernelspec": {
   "display_name": "base",
   "language": "python",
   "name": "python3"
  },
  "language_info": {
   "codemirror_mode": {
    "name": "ipython",
    "version": 3
   },
   "file_extension": ".py",
   "mimetype": "text/x-python",
   "name": "python",
   "nbconvert_exporter": "python",
   "pygments_lexer": "ipython3",
   "version": "3.11.8"
  }
 },
 "nbformat": 4,
 "nbformat_minor": 2
}
