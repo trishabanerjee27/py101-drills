{
 "cells": [
  {
   "cell_type": "markdown",
   "metadata": {},
   "source": [
    "#### List Comprehension"
   ]
  },
  {
   "cell_type": "code",
   "execution_count": 1,
   "metadata": {},
   "outputs": [
    {
     "name": "stdout",
     "output_type": "stream",
     "text": [
      "[0, 1, 4, 9, 16, 25, 36, 49, 64, 81]\n"
     ]
    }
   ],
   "source": [
    "numbers = list(range(10))\n",
    "squares = [x**2 for x in numbers]\n",
    "\n",
    "#example\n",
    "print(squares)"
   ]
  },
  {
   "cell_type": "markdown",
   "metadata": {},
   "source": [
    "#### Set"
   ]
  },
  {
   "cell_type": "code",
   "execution_count": 2,
   "metadata": {},
   "outputs": [
    {
     "name": "stdout",
     "output_type": "stream",
     "text": [
      "{4, 5, 6}\n"
     ]
    }
   ],
   "source": [
    "words = [\"apple\", \"banana\", \"apple\", \"orange\", \"banana\", \"kiwi\"]\n",
    "unique_lengths = {len(word) for word in words}\n",
    "\n",
    "#example\n",
    "print(unique_lengths)\n"
   ]
  },
  {
   "cell_type": "markdown",
   "metadata": {},
   "source": [
    "#### Dictionary"
   ]
  },
  {
   "cell_type": "code",
   "execution_count": 3,
   "metadata": {},
   "outputs": [
    {
     "name": "stdout",
     "output_type": "stream",
     "text": [
      "{'XX': 2, 'XY': 2, 'XYZ': 3, 'XYZABC': 6}\n"
     ]
    }
   ],
   "source": [
    "names = [\"XX\", \"XY\", \"XYZ\", \"XYZABC\"]\n",
    "name_lengths = {name: len(name) for name in names}\n",
    "\n",
    "#example\n",
    "print(name_lengths)\n"
   ]
  },
  {
   "cell_type": "markdown",
   "metadata": {},
   "source": [
    "#### filter(), map(), reduce()"
   ]
  },
  {
   "cell_type": "code",
   "execution_count": 4,
   "metadata": {},
   "outputs": [
    {
     "name": "stdout",
     "output_type": "stream",
     "text": [
      "[8, 10, 24]\n",
      "[6, 10, 16, 20, 30, 42, 48]\n",
      "86\n"
     ]
    }
   ],
   "source": [
    "from functools import reduce\n",
    "\n",
    "data = [3, 5, 8, 10, 15, 21, 24]\n",
    "\n",
    "evens = list(filter(lambda x: x % 2 == 0, data))\n",
    "doubled = list(map(lambda x: x * 2, data))\n",
    "summed = reduce(lambda x, y: x + y, data)\n",
    "\n",
    "#exampsle-->\n",
    "print(evens)\n",
    "print(doubled)\n",
    "print(summed)"
   ]
  }
 ],
 "metadata": {
  "kernelspec": {
   "display_name": "base",
   "language": "python",
   "name": "python3"
  },
  "language_info": {
   "codemirror_mode": {
    "name": "ipython",
    "version": 3
   },
   "file_extension": ".py",
   "mimetype": "text/x-python",
   "name": "python",
   "nbconvert_exporter": "python",
   "pygments_lexer": "ipython3",
   "version": "3.11.8"
  }
 },
 "nbformat": 4,
 "nbformat_minor": 2
}
