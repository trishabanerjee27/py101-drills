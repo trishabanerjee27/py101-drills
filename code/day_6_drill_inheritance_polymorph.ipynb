{
 "cells": [
  {
   "cell_type": "code",
   "execution_count": 2,
   "metadata": {},
   "outputs": [
    {
     "name": "stdout",
     "output_type": "stream",
     "text": [
      "'1984' by George Orwell\n",
      "True\n",
      "False\n"
     ]
    }
   ],
   "source": [
    "class Book:\n",
    "    def __init__(self, title, author, isbn):\n",
    "        self.title = title\n",
    "        self.author = author\n",
    "        self.isbn = isbn\n",
    "\n",
    "    def __str__(self):\n",
    "        return f\"'{self.title}' by {self.author}\"\n",
    "\n",
    "    def __repr__(self):\n",
    "        return f\"Book(title='{self.title}', author='{self.author}', isbn='{self.isbn}')\"\n",
    "\n",
    "    def __eq__(self, other):\n",
    "        return isinstance(other, Book) and self.isbn == other.isbn\n",
    "\n",
    "#exampels\n",
    "book1 = Book(\"1984\", \"George Orwell\", \"123456\")\n",
    "book2 = Book(\"1984\", \"George Orwell\", \"123456\")\n",
    "book3 = Book(\"Brave New World\", \"Aldous Huxley\", \"789101\")\n",
    "print(book1)\n",
    "print(book1 == book2)\n",
    "print(book1 == book3)"
   ]
  },
  {
   "cell_type": "code",
   "execution_count": null,
   "metadata": {},
   "outputs": [
    {
     "name": "stdout",
     "output_type": "stream",
     "text": [
      "'1984' by George Orwell\n",
      "True\n",
      "False\n",
      "Alice (Borrowed: [])\n",
      "Central Library: ['1984', 'Brave New World']\n",
      "Alice (Borrowed: ['1984'])\n",
      "Central Library: ['Brave New World']\n",
      "Alice (Borrowed: [])\n",
      "Central Library: ['Brave New World', '1984']\n"
     ]
    }
   ],
   "source": [
    "class User:\n",
    "    def __init__(self, name):\n",
    "        self.name = name\n",
    "        self.borrowed_books = []\n",
    "\n",
    "    def borrow(self, book, library):\n",
    "        if library.lend_book(book, self):\n",
    "            self.borrowed_books.append(book)\n",
    "\n",
    "    def return_book(self, book, library):\n",
    "        if book in self.borrowed_books:\n",
    "            self.borrowed_books.remove(book)\n",
    "            library.receive_book(book)\n",
    "\n",
    "    def __str__(self):\n",
    "        return f\"{self.name} (Borrowed: {[b.title for b in self.borrowed_books]})\"\n",
    "\n",
    "#example\n",
    "user1 = User(\"Alice\")\n",
    "print(user1)"
   ]
  },
  {
   "cell_type": "code",
   "execution_count": 3,
   "metadata": {},
   "outputs": [
    {
     "name": "stdout",
     "output_type": "stream",
     "text": [
      "Central Library: ['1984', 'Brave New World']\n",
      "Alice (Borrowed: ['1984'])\n",
      "Central Library: ['Brave New World']\n",
      "Alice (Borrowed: [])\n",
      "Central Library: ['Brave New World', '1984']\n"
     ]
    }
   ],
   "source": [
    "class Library:\n",
    "    def __init__(self, name):\n",
    "        self.name = name\n",
    "        self.books = []\n",
    "\n",
    "    def add_book(self, book):\n",
    "        if book not in self.books:\n",
    "            self.books.append(book)\n",
    "\n",
    "    def lend_book(self, book, user):\n",
    "        if book in self.books:\n",
    "            self.books.remove(book)\n",
    "            return True\n",
    "        return False\n",
    "\n",
    "    def receive_book(self, book):\n",
    "        self.books.append(book)\n",
    "\n",
    "    def __str__(self):\n",
    "        return f\"{self.name} Library: {[b.title for b in self.books]}\"\n",
    "\n",
    "#example\n",
    "library = Library(\"Central\")\n",
    "library.add_book(book1)\n",
    "library.add_book(book3)\n",
    "print(library)\n",
    "\n",
    "user1.borrow(book1, library)\n",
    "print(user1)\n",
    "print(library)\n",
    "\n",
    "user1.return_book(book1, library)\n",
    "print(user1)\n",
    "print(library)"
   ]
  },
  {
   "cell_type": "markdown",
   "metadata": {},
   "source": [
    "### Day 6 CONTINUED"
   ]
  },
  {
   "cell_type": "code",
   "execution_count": 1,
   "metadata": {},
   "outputs": [],
   "source": [
    "class Book:\n",
    "    def __init__(self, title, author, isbn):\n",
    "        self.title = title\n",
    "        self.author = author\n",
    "        self.isbn = isbn\n",
    "\n",
    "    def read(self):\n",
    "        return self.title\n",
    "\n",
    "    def __str__(self):\n",
    "        return self.title\n",
    "\n",
    "\n",
    "class DigitalBook(Book):\n",
    "    def __init__(self, title, author, isbn, file_size_mb):\n",
    "        super().__init__(title, author, isbn)\n",
    "        self.file_size_mb = file_size_mb\n",
    "\n",
    "    def read(self):\n",
    "        return f\"{self.title} [e-book]\"\n",
    "\n",
    "\n",
    "class AudioBook(Book):\n",
    "    def __init__(self, title, author, isbn, duration_mins):\n",
    "        super().__init__(title, author, isbn)\n",
    "        self.duration_mins = duration_mins\n",
    "\n",
    "    def read(self):\n",
    "        return f\"{self.title} [audiobook]\""
   ]
  },
  {
   "cell_type": "code",
   "execution_count": 2,
   "metadata": {},
   "outputs": [
    {
     "name": "stdout",
     "output_type": "stream",
     "text": [
      "Sapiens\n",
      "Atomic Habits [e-book]\n",
      "The Alchemist [audiobook]\n"
     ]
    }
   ],
   "source": [
    "#examples\n",
    "\n",
    "books = [\n",
    "    Book(\"Sapiens\", \"Yuval Noah Harari\", \"0001\"),\n",
    "    DigitalBook(\"Atomic Habits\", \"James Clear\", \"0002\", 3.5),\n",
    "    AudioBook(\"The Alchemist\", \"Paulo Coelho\", \"0003\", 120)\n",
    "]\n",
    "\n",
    "for b in books:\n",
    "    print(b.read())"
   ]
  }
 ],
 "metadata": {
  "kernelspec": {
   "display_name": "base",
   "language": "python",
   "name": "python3"
  },
  "language_info": {
   "codemirror_mode": {
    "name": "ipython",
    "version": 3
   },
   "file_extension": ".py",
   "mimetype": "text/x-python",
   "name": "python",
   "nbconvert_exporter": "python",
   "pygments_lexer": "ipython3",
   "version": "3.11.8"
  }
 },
 "nbformat": 4,
 "nbformat_minor": 2
}
